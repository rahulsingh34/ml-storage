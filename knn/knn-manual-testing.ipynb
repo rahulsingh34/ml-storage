{
 "cells": [
  {
   "cell_type": "code",
   "execution_count": 5,
   "metadata": {},
   "outputs": [],
   "source": [
    "import numpy as np\n",
    "from collections import Counter\n",
    "from math import sqrt\n",
    "import warnings\n",
    "import pandas as pd\n",
    "import random"
   ]
  },
  {
   "attachments": {},
   "cell_type": "markdown",
   "metadata": {},
   "source": [
    "Dataset"
   ]
  },
  {
   "cell_type": "code",
   "execution_count": 7,
   "metadata": {},
   "outputs": [
    {
     "name": "stderr",
     "output_type": "stream",
     "text": [
      "/var/folders/rw/hql3pd214t59q_rc7_7h0lqm0000gn/T/ipykernel_92034/2775512191.py:7: FutureWarning: In a future version of pandas all arguments of DataFrame.drop except for the argument 'labels' will be keyword-only\n",
      "  df.drop(['id'], 1, inplace=True)\n",
      "/var/folders/rw/hql3pd214t59q_rc7_7h0lqm0000gn/T/ipykernel_92034/2775512191.py:13: FutureWarning: In a future version of pandas all arguments of DataFrame.drop except for the argument 'labels' will be keyword-only\n",
      "  X = np.array(df.drop(['class'], 1))\n"
     ]
    }
   ],
   "source": [
    "df = pd.read_csv('breast-cancer-wisconsin.data')\n",
    "\n",
    "# Replacing missing data\n",
    "df.replace('?', -99999, inplace=True)\n",
    "\n",
    "# Remove ID column\n",
    "df.drop(['id'], 1, inplace=True)\n",
    "\n",
    "# Converting to floats\n",
    "full_data = df.astype(float).values.tolist()\n",
    "\n",
    "# Variables\n",
    "X = np.array(df.drop(['class'], 1))\n",
    "y = np.array(df['class'])\n",
    "\n",
    "# Randomizing data\n",
    "random.shuffle(full_data)"
   ]
  },
  {
   "attachments": {},
   "cell_type": "markdown",
   "metadata": {},
   "source": [
    "Train, test, split"
   ]
  },
  {
   "cell_type": "code",
   "execution_count": 10,
   "metadata": {},
   "outputs": [],
   "source": [
    "test_size = 0.2\n",
    "train_set = {2:[], 4:[]}\n",
    "test_set = {2:[], 4:[]}\n",
    "\n",
    "# Everything up to the last 20% of data\n",
    "train_data = full_data[:-int(test_size*len(full_data))]\n",
    "\n",
    "# Last 20% of the data\n",
    "test_data = full_data[-int(test_size*len(full_data)):]\n",
    "\n",
    "for i in train_data:\n",
    "    train_set[i[-1]].append(i[:-1])\n",
    "\n",
    "for i in test_data:\n",
    "    test_set[i[-1]].append(i[:-1])"
   ]
  },
  {
   "attachments": {},
   "cell_type": "markdown",
   "metadata": {},
   "source": [
    "Building KNN algo"
   ]
  },
  {
   "cell_type": "code",
   "execution_count": 20,
   "metadata": {},
   "outputs": [],
   "source": [
    "def knn(data, predict, k=3):\n",
    "    if len(data) >=k:\n",
    "        warnings.warn('K is set to a value less than the total voting groups!')\n",
    "\n",
    "    distances = []\n",
    "\n",
    "    for group in data:\n",
    "        for features in data[group]:\n",
    "            ed = np.linalg.norm(np.array(features) - np.array(predict))\n",
    "            distances.append([ed, group])\n",
    "\n",
    "    votes = [i[1] for i in sorted(distances) [:k]]\n",
    "    vote_results = Counter(votes).most_common(1)[0][0]\n",
    "    confidence = Counter(votes).most_common(1)[0][1] / k\n",
    "\n",
    "    #print(vote_results, confidence)\n",
    "\n",
    "    return vote_results, confidence"
   ]
  },
  {
   "attachments": {},
   "cell_type": "markdown",
   "metadata": {},
   "source": [
    "Results"
   ]
  },
  {
   "cell_type": "code",
   "execution_count": 21,
   "metadata": {},
   "outputs": [
    {
     "name": "stdout",
     "output_type": "stream",
     "text": [
      "Accuracy:  0.9712230215827338\n"
     ]
    }
   ],
   "source": [
    "correct = 0\n",
    "total = 0\n",
    "\n",
    "for group in test_set:\n",
    "    for data in test_set[group]:\n",
    "        vote, confidence = knn(train_set, data, k=5)\n",
    "        if group == vote:\n",
    "            correct += 1\n",
    "        total +=1\n",
    "\n",
    "print(\"Accuracy: \", correct/total)"
   ]
  }
 ],
 "metadata": {
  "kernelspec": {
   "display_name": "Python 3",
   "language": "python",
   "name": "python3"
  },
  "language_info": {
   "codemirror_mode": {
    "name": "ipython",
    "version": 3
   },
   "file_extension": ".py",
   "mimetype": "text/x-python",
   "name": "python",
   "nbconvert_exporter": "python",
   "pygments_lexer": "ipython3",
   "version": "3.9.5 (v3.9.5:0a7dcbdb13, May  3 2021, 13:05:53) \n[Clang 12.0.5 (clang-1205.0.22.9)]"
  },
  "orig_nbformat": 4,
  "vscode": {
   "interpreter": {
    "hash": "aee8b7b246df8f9039afb4144a1f6fd8d2ca17a180786b69acc140d282b71a49"
   }
  }
 },
 "nbformat": 4,
 "nbformat_minor": 2
}
