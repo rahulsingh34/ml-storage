{
 "cells": [
  {
   "cell_type": "code",
   "execution_count": 13,
   "metadata": {},
   "outputs": [],
   "source": [
    "import matplotlib.pyplot as plt\n",
    "from matplotlib import style\n",
    "import numpy as np\n",
    "import pandas as pd\n",
    "from sklearn.cluster import MeanShift\n",
    "from sklearn import preprocessing\n",
    "style.use('ggplot')"
   ]
  },
  {
   "cell_type": "code",
   "execution_count": 14,
   "metadata": {},
   "outputs": [],
   "source": [
    "df = pd.read_excel(\"../titanic.xls\")\n",
    "original_df = pd.DataFrame.copy(df)"
   ]
  },
  {
   "cell_type": "code",
   "execution_count": 15,
   "metadata": {},
   "outputs": [
    {
     "data": {
      "text/html": [
       "<div>\n",
       "<style scoped>\n",
       "    .dataframe tbody tr th:only-of-type {\n",
       "        vertical-align: middle;\n",
       "    }\n",
       "\n",
       "    .dataframe tbody tr th {\n",
       "        vertical-align: top;\n",
       "    }\n",
       "\n",
       "    .dataframe thead th {\n",
       "        text-align: right;\n",
       "    }\n",
       "</style>\n",
       "<table border=\"1\" class=\"dataframe\">\n",
       "  <thead>\n",
       "    <tr style=\"text-align: right;\">\n",
       "      <th></th>\n",
       "      <th>pclass</th>\n",
       "      <th>survived</th>\n",
       "      <th>name</th>\n",
       "      <th>sex</th>\n",
       "      <th>age</th>\n",
       "      <th>sibsp</th>\n",
       "      <th>parch</th>\n",
       "      <th>ticket</th>\n",
       "      <th>fare</th>\n",
       "      <th>cabin</th>\n",
       "      <th>embarked</th>\n",
       "      <th>boat</th>\n",
       "      <th>body</th>\n",
       "      <th>home.dest</th>\n",
       "    </tr>\n",
       "  </thead>\n",
       "  <tbody>\n",
       "    <tr>\n",
       "      <th>0</th>\n",
       "      <td>1</td>\n",
       "      <td>1</td>\n",
       "      <td>Allen, Miss. Elisabeth Walton</td>\n",
       "      <td>female</td>\n",
       "      <td>29.0000</td>\n",
       "      <td>0</td>\n",
       "      <td>0</td>\n",
       "      <td>24160</td>\n",
       "      <td>211.3375</td>\n",
       "      <td>B5</td>\n",
       "      <td>S</td>\n",
       "      <td>2</td>\n",
       "      <td>NaN</td>\n",
       "      <td>St Louis, MO</td>\n",
       "    </tr>\n",
       "    <tr>\n",
       "      <th>1</th>\n",
       "      <td>1</td>\n",
       "      <td>1</td>\n",
       "      <td>Allison, Master. Hudson Trevor</td>\n",
       "      <td>male</td>\n",
       "      <td>0.9167</td>\n",
       "      <td>1</td>\n",
       "      <td>2</td>\n",
       "      <td>113781</td>\n",
       "      <td>151.5500</td>\n",
       "      <td>C22 C26</td>\n",
       "      <td>S</td>\n",
       "      <td>11</td>\n",
       "      <td>NaN</td>\n",
       "      <td>Montreal, PQ / Chesterville, ON</td>\n",
       "    </tr>\n",
       "    <tr>\n",
       "      <th>2</th>\n",
       "      <td>1</td>\n",
       "      <td>0</td>\n",
       "      <td>Allison, Miss. Helen Loraine</td>\n",
       "      <td>female</td>\n",
       "      <td>2.0000</td>\n",
       "      <td>1</td>\n",
       "      <td>2</td>\n",
       "      <td>113781</td>\n",
       "      <td>151.5500</td>\n",
       "      <td>C22 C26</td>\n",
       "      <td>S</td>\n",
       "      <td>NaN</td>\n",
       "      <td>NaN</td>\n",
       "      <td>Montreal, PQ / Chesterville, ON</td>\n",
       "    </tr>\n",
       "    <tr>\n",
       "      <th>3</th>\n",
       "      <td>1</td>\n",
       "      <td>0</td>\n",
       "      <td>Allison, Mr. Hudson Joshua Creighton</td>\n",
       "      <td>male</td>\n",
       "      <td>30.0000</td>\n",
       "      <td>1</td>\n",
       "      <td>2</td>\n",
       "      <td>113781</td>\n",
       "      <td>151.5500</td>\n",
       "      <td>C22 C26</td>\n",
       "      <td>S</td>\n",
       "      <td>NaN</td>\n",
       "      <td>135.0</td>\n",
       "      <td>Montreal, PQ / Chesterville, ON</td>\n",
       "    </tr>\n",
       "    <tr>\n",
       "      <th>4</th>\n",
       "      <td>1</td>\n",
       "      <td>0</td>\n",
       "      <td>Allison, Mrs. Hudson J C (Bessie Waldo Daniels)</td>\n",
       "      <td>female</td>\n",
       "      <td>25.0000</td>\n",
       "      <td>1</td>\n",
       "      <td>2</td>\n",
       "      <td>113781</td>\n",
       "      <td>151.5500</td>\n",
       "      <td>C22 C26</td>\n",
       "      <td>S</td>\n",
       "      <td>NaN</td>\n",
       "      <td>NaN</td>\n",
       "      <td>Montreal, PQ / Chesterville, ON</td>\n",
       "    </tr>\n",
       "  </tbody>\n",
       "</table>\n",
       "</div>"
      ],
      "text/plain": [
       "   pclass  survived                                             name     sex  \\\n",
       "0       1         1                    Allen, Miss. Elisabeth Walton  female   \n",
       "1       1         1                   Allison, Master. Hudson Trevor    male   \n",
       "2       1         0                     Allison, Miss. Helen Loraine  female   \n",
       "3       1         0             Allison, Mr. Hudson Joshua Creighton    male   \n",
       "4       1         0  Allison, Mrs. Hudson J C (Bessie Waldo Daniels)  female   \n",
       "\n",
       "       age  sibsp  parch  ticket      fare    cabin embarked boat   body  \\\n",
       "0  29.0000      0      0   24160  211.3375       B5        S    2    NaN   \n",
       "1   0.9167      1      2  113781  151.5500  C22 C26        S   11    NaN   \n",
       "2   2.0000      1      2  113781  151.5500  C22 C26        S  NaN    NaN   \n",
       "3  30.0000      1      2  113781  151.5500  C22 C26        S  NaN  135.0   \n",
       "4  25.0000      1      2  113781  151.5500  C22 C26        S  NaN    NaN   \n",
       "\n",
       "                         home.dest  \n",
       "0                     St Louis, MO  \n",
       "1  Montreal, PQ / Chesterville, ON  \n",
       "2  Montreal, PQ / Chesterville, ON  \n",
       "3  Montreal, PQ / Chesterville, ON  \n",
       "4  Montreal, PQ / Chesterville, ON  "
      ]
     },
     "execution_count": 15,
     "metadata": {},
     "output_type": "execute_result"
    }
   ],
   "source": [
    "df.head()"
   ]
  },
  {
   "cell_type": "code",
   "execution_count": 16,
   "metadata": {},
   "outputs": [
    {
     "name": "stderr",
     "output_type": "stream",
     "text": [
      "/var/folders/rw/hql3pd214t59q_rc7_7h0lqm0000gn/T/ipykernel_86804/3798999643.py:1: FutureWarning: In a future version of pandas all arguments of DataFrame.drop except for the argument 'labels' will be keyword-only\n",
      "  df.drop(['body', 'name'], 1, inplace=True)\n"
     ]
    }
   ],
   "source": [
    "df.drop(['body', 'name'], 1, inplace=True)"
   ]
  },
  {
   "cell_type": "code",
   "execution_count": 17,
   "metadata": {},
   "outputs": [],
   "source": [
    "df.fillna(0, inplace=True)"
   ]
  },
  {
   "cell_type": "code",
   "execution_count": 18,
   "metadata": {},
   "outputs": [],
   "source": [
    "def handle_non_numerical_data(df):\n",
    "    columns = df.columns.values\n",
    "\n",
    "    for column in columns:\n",
    "        text_digit_vals = {}\n",
    "        def convert_to_int(val):\n",
    "            return text_digit_vals[val]\n",
    "\n",
    "        if df[column].dtype != np.int64 and df[column].dtype != np.float64:\n",
    "            column_contents = df[column].values.tolist()\n",
    "            unique_elements = set(column_contents)\n",
    "            x = 0\n",
    "            for unique in unique_elements:\n",
    "                if unique not in text_digit_vals:\n",
    "                    text_digit_vals[unique] = x\n",
    "                    x += 1\n",
    "            df[column] = list(map(convert_to_int, df[column]))\n",
    "\n",
    "    return df"
   ]
  },
  {
   "cell_type": "code",
   "execution_count": 19,
   "metadata": {},
   "outputs": [
    {
     "data": {
      "text/html": [
       "<div>\n",
       "<style scoped>\n",
       "    .dataframe tbody tr th:only-of-type {\n",
       "        vertical-align: middle;\n",
       "    }\n",
       "\n",
       "    .dataframe tbody tr th {\n",
       "        vertical-align: top;\n",
       "    }\n",
       "\n",
       "    .dataframe thead th {\n",
       "        text-align: right;\n",
       "    }\n",
       "</style>\n",
       "<table border=\"1\" class=\"dataframe\">\n",
       "  <thead>\n",
       "    <tr style=\"text-align: right;\">\n",
       "      <th></th>\n",
       "      <th>pclass</th>\n",
       "      <th>survived</th>\n",
       "      <th>sex</th>\n",
       "      <th>age</th>\n",
       "      <th>sibsp</th>\n",
       "      <th>parch</th>\n",
       "      <th>ticket</th>\n",
       "      <th>fare</th>\n",
       "      <th>cabin</th>\n",
       "      <th>embarked</th>\n",
       "      <th>boat</th>\n",
       "      <th>home.dest</th>\n",
       "    </tr>\n",
       "  </thead>\n",
       "  <tbody>\n",
       "    <tr>\n",
       "      <th>0</th>\n",
       "      <td>1</td>\n",
       "      <td>1</td>\n",
       "      <td>1</td>\n",
       "      <td>29.0000</td>\n",
       "      <td>0</td>\n",
       "      <td>0</td>\n",
       "      <td>754</td>\n",
       "      <td>211.3375</td>\n",
       "      <td>177</td>\n",
       "      <td>1</td>\n",
       "      <td>1</td>\n",
       "      <td>196</td>\n",
       "    </tr>\n",
       "    <tr>\n",
       "      <th>1</th>\n",
       "      <td>1</td>\n",
       "      <td>1</td>\n",
       "      <td>0</td>\n",
       "      <td>0.9167</td>\n",
       "      <td>1</td>\n",
       "      <td>2</td>\n",
       "      <td>518</td>\n",
       "      <td>151.5500</td>\n",
       "      <td>5</td>\n",
       "      <td>1</td>\n",
       "      <td>9</td>\n",
       "      <td>82</td>\n",
       "    </tr>\n",
       "    <tr>\n",
       "      <th>2</th>\n",
       "      <td>1</td>\n",
       "      <td>0</td>\n",
       "      <td>1</td>\n",
       "      <td>2.0000</td>\n",
       "      <td>1</td>\n",
       "      <td>2</td>\n",
       "      <td>518</td>\n",
       "      <td>151.5500</td>\n",
       "      <td>5</td>\n",
       "      <td>1</td>\n",
       "      <td>0</td>\n",
       "      <td>82</td>\n",
       "    </tr>\n",
       "    <tr>\n",
       "      <th>3</th>\n",
       "      <td>1</td>\n",
       "      <td>0</td>\n",
       "      <td>0</td>\n",
       "      <td>30.0000</td>\n",
       "      <td>1</td>\n",
       "      <td>2</td>\n",
       "      <td>518</td>\n",
       "      <td>151.5500</td>\n",
       "      <td>5</td>\n",
       "      <td>1</td>\n",
       "      <td>0</td>\n",
       "      <td>82</td>\n",
       "    </tr>\n",
       "    <tr>\n",
       "      <th>4</th>\n",
       "      <td>1</td>\n",
       "      <td>0</td>\n",
       "      <td>1</td>\n",
       "      <td>25.0000</td>\n",
       "      <td>1</td>\n",
       "      <td>2</td>\n",
       "      <td>518</td>\n",
       "      <td>151.5500</td>\n",
       "      <td>5</td>\n",
       "      <td>1</td>\n",
       "      <td>0</td>\n",
       "      <td>82</td>\n",
       "    </tr>\n",
       "  </tbody>\n",
       "</table>\n",
       "</div>"
      ],
      "text/plain": [
       "   pclass  survived  sex      age  sibsp  parch  ticket      fare  cabin  \\\n",
       "0       1         1    1  29.0000      0      0     754  211.3375    177   \n",
       "1       1         1    0   0.9167      1      2     518  151.5500      5   \n",
       "2       1         0    1   2.0000      1      2     518  151.5500      5   \n",
       "3       1         0    0  30.0000      1      2     518  151.5500      5   \n",
       "4       1         0    1  25.0000      1      2     518  151.5500      5   \n",
       "\n",
       "   embarked  boat  home.dest  \n",
       "0         1     1        196  \n",
       "1         1     9         82  \n",
       "2         1     0         82  \n",
       "3         1     0         82  \n",
       "4         1     0         82  "
      ]
     },
     "execution_count": 19,
     "metadata": {},
     "output_type": "execute_result"
    }
   ],
   "source": [
    "df = handle_non_numerical_data(df)\n",
    "df.head()"
   ]
  },
  {
   "cell_type": "code",
   "execution_count": 20,
   "metadata": {},
   "outputs": [
    {
     "name": "stderr",
     "output_type": "stream",
     "text": [
      "/var/folders/rw/hql3pd214t59q_rc7_7h0lqm0000gn/T/ipykernel_86804/105476489.py:1: FutureWarning: In a future version of pandas all arguments of DataFrame.drop except for the argument 'labels' will be keyword-only\n",
      "  X = np.array(df.drop(['survived'], 1).astype(float))\n"
     ]
    }
   ],
   "source": [
    "X = np.array(df.drop(['survived'], 1).astype(float))\n",
    "X = preprocessing.scale(X)"
   ]
  },
  {
   "cell_type": "code",
   "execution_count": 21,
   "metadata": {},
   "outputs": [],
   "source": [
    "y = np.array(df['survived'])"
   ]
  },
  {
   "cell_type": "code",
   "execution_count": 22,
   "metadata": {},
   "outputs": [
    {
     "data": {
      "text/html": [
       "<style>#sk-container-id-2 {color: black;background-color: white;}#sk-container-id-2 pre{padding: 0;}#sk-container-id-2 div.sk-toggleable {background-color: white;}#sk-container-id-2 label.sk-toggleable__label {cursor: pointer;display: block;width: 100%;margin-bottom: 0;padding: 0.3em;box-sizing: border-box;text-align: center;}#sk-container-id-2 label.sk-toggleable__label-arrow:before {content: \"▸\";float: left;margin-right: 0.25em;color: #696969;}#sk-container-id-2 label.sk-toggleable__label-arrow:hover:before {color: black;}#sk-container-id-2 div.sk-estimator:hover label.sk-toggleable__label-arrow:before {color: black;}#sk-container-id-2 div.sk-toggleable__content {max-height: 0;max-width: 0;overflow: hidden;text-align: left;background-color: #f0f8ff;}#sk-container-id-2 div.sk-toggleable__content pre {margin: 0.2em;color: black;border-radius: 0.25em;background-color: #f0f8ff;}#sk-container-id-2 input.sk-toggleable__control:checked~div.sk-toggleable__content {max-height: 200px;max-width: 100%;overflow: auto;}#sk-container-id-2 input.sk-toggleable__control:checked~label.sk-toggleable__label-arrow:before {content: \"▾\";}#sk-container-id-2 div.sk-estimator input.sk-toggleable__control:checked~label.sk-toggleable__label {background-color: #d4ebff;}#sk-container-id-2 div.sk-label input.sk-toggleable__control:checked~label.sk-toggleable__label {background-color: #d4ebff;}#sk-container-id-2 input.sk-hidden--visually {border: 0;clip: rect(1px 1px 1px 1px);clip: rect(1px, 1px, 1px, 1px);height: 1px;margin: -1px;overflow: hidden;padding: 0;position: absolute;width: 1px;}#sk-container-id-2 div.sk-estimator {font-family: monospace;background-color: #f0f8ff;border: 1px dotted black;border-radius: 0.25em;box-sizing: border-box;margin-bottom: 0.5em;}#sk-container-id-2 div.sk-estimator:hover {background-color: #d4ebff;}#sk-container-id-2 div.sk-parallel-item::after {content: \"\";width: 100%;border-bottom: 1px solid gray;flex-grow: 1;}#sk-container-id-2 div.sk-label:hover label.sk-toggleable__label {background-color: #d4ebff;}#sk-container-id-2 div.sk-serial::before {content: \"\";position: absolute;border-left: 1px solid gray;box-sizing: border-box;top: 0;bottom: 0;left: 50%;z-index: 0;}#sk-container-id-2 div.sk-serial {display: flex;flex-direction: column;align-items: center;background-color: white;padding-right: 0.2em;padding-left: 0.2em;position: relative;}#sk-container-id-2 div.sk-item {position: relative;z-index: 1;}#sk-container-id-2 div.sk-parallel {display: flex;align-items: stretch;justify-content: center;background-color: white;position: relative;}#sk-container-id-2 div.sk-item::before, #sk-container-id-2 div.sk-parallel-item::before {content: \"\";position: absolute;border-left: 1px solid gray;box-sizing: border-box;top: 0;bottom: 0;left: 50%;z-index: -1;}#sk-container-id-2 div.sk-parallel-item {display: flex;flex-direction: column;z-index: 1;position: relative;background-color: white;}#sk-container-id-2 div.sk-parallel-item:first-child::after {align-self: flex-end;width: 50%;}#sk-container-id-2 div.sk-parallel-item:last-child::after {align-self: flex-start;width: 50%;}#sk-container-id-2 div.sk-parallel-item:only-child::after {width: 0;}#sk-container-id-2 div.sk-dashed-wrapped {border: 1px dashed gray;margin: 0 0.4em 0.5em 0.4em;box-sizing: border-box;padding-bottom: 0.4em;background-color: white;}#sk-container-id-2 div.sk-label label {font-family: monospace;font-weight: bold;display: inline-block;line-height: 1.2em;}#sk-container-id-2 div.sk-label-container {text-align: center;}#sk-container-id-2 div.sk-container {/* jupyter's `normalize.less` sets `[hidden] { display: none; }` but bootstrap.min.css set `[hidden] { display: none !important; }` so we also need the `!important` here to be able to override the default hidden behavior on the sphinx rendered scikit-learn.org. See: https://github.com/scikit-learn/scikit-learn/issues/21755 */display: inline-block !important;position: relative;}#sk-container-id-2 div.sk-text-repr-fallback {display: none;}</style><div id=\"sk-container-id-2\" class=\"sk-top-container\"><div class=\"sk-text-repr-fallback\"><pre>MeanShift()</pre><b>In a Jupyter environment, please rerun this cell to show the HTML representation or trust the notebook. <br />On GitHub, the HTML representation is unable to render, please try loading this page with nbviewer.org.</b></div><div class=\"sk-container\" hidden><div class=\"sk-item\"><div class=\"sk-estimator sk-toggleable\"><input class=\"sk-toggleable__control sk-hidden--visually\" id=\"sk-estimator-id-2\" type=\"checkbox\" checked><label for=\"sk-estimator-id-2\" class=\"sk-toggleable__label sk-toggleable__label-arrow\">MeanShift</label><div class=\"sk-toggleable__content\"><pre>MeanShift()</pre></div></div></div></div></div>"
      ],
      "text/plain": [
       "MeanShift()"
      ]
     },
     "execution_count": 22,
     "metadata": {},
     "output_type": "execute_result"
    }
   ],
   "source": [
    "clf = MeanShift()\n",
    "clf.fit(X)"
   ]
  },
  {
   "cell_type": "code",
   "execution_count": 23,
   "metadata": {},
   "outputs": [
    {
     "name": "stderr",
     "output_type": "stream",
     "text": [
      "/Library/Frameworks/Python.framework/Versions/3.9/lib/python3.9/site-packages/pandas/core/indexing.py:1732: SettingWithCopyWarning: \n",
      "A value is trying to be set on a copy of a slice from a DataFrame\n",
      "\n",
      "See the caveats in the documentation: https://pandas.pydata.org/pandas-docs/stable/user_guide/indexing.html#returning-a-view-versus-a-copy\n",
      "  self._setitem_single_block(indexer, value, name)\n"
     ]
    },
    {
     "name": "stdout",
     "output_type": "stream",
     "text": [
      "{0: 0.3782101167315175, 1: 0.9285714285714286, 2: 0.1}\n"
     ]
    }
   ],
   "source": [
    "labels = clf.labels_\n",
    "cluster_centers = clf.cluster_centers_\n",
    "\n",
    "original_df['cluster_group'] = np.nan\n",
    "\n",
    "for i in range(len(X)):\n",
    "    original_df['cluster_group'].iloc[i] = labels[i]\n",
    "\n",
    "n_clusters = len(np.unique(labels))\n",
    "\n",
    "survival_rates = {}\n",
    "for i in range(n_clusters):\n",
    "    temp_df = original_df[(original_df['cluster_group'] == float(i))]\n",
    "    survival_cluster = temp_df[(temp_df['survived'] == 1)]\n",
    "    survival_rate = len(survival_cluster)/len(temp_df)\n",
    "    survival_rates[i] = survival_rate\n",
    "\n",
    "print(survival_rates)"
   ]
  },
  {
   "cell_type": "code",
   "execution_count": 24,
   "metadata": {},
   "outputs": [
    {
     "name": "stdout",
     "output_type": "stream",
     "text": [
      "     pclass  survived                                               name  \\\n",
      "17        1         1    Baxter, Mrs. James (Helene DeLaudeniere Chaput)   \n",
      "49        1         1                 Cardeza, Mr. Thomas Drake Martinez   \n",
      "50        1         1  Cardeza, Mrs. James Warburton Martinez (Charlo...   \n",
      "97        1         1  Douglas, Mrs. Frederick Charles (Mary Helene B...   \n",
      "111       1         1                     Fortune, Miss. Alice Elizabeth   \n",
      "112       1         1                         Fortune, Miss. Ethel Flora   \n",
      "113       1         1                         Fortune, Miss. Mabel Helen   \n",
      "115       1         0                                  Fortune, Mr. Mark   \n",
      "116       1         1                Fortune, Mrs. Mark (Mary McDougald)   \n",
      "183       1         1                             Lesurer, Mr. Gustave J   \n",
      "250       1         1                         Ryerson, Miss. Emily Borie   \n",
      "251       1         1              Ryerson, Miss. Susan Parker \"Suzette\"   \n",
      "253       1         1    Ryerson, Mrs. Arthur Larned (Emily Maria Borie)   \n",
      "302       1         1                                   Ward, Miss. Anna   \n",
      "\n",
      "        sex   age  sibsp  parch    ticket      fare            cabin embarked  \\\n",
      "17   female  50.0      0      1  PC 17558  247.5208          B58 B60        C   \n",
      "49     male  36.0      0      1  PC 17755  512.3292      B51 B53 B55        C   \n",
      "50   female  58.0      0      1  PC 17755  512.3292      B51 B53 B55        C   \n",
      "97   female  27.0      1      1  PC 17558  247.5208          B58 B60        C   \n",
      "111  female  24.0      3      2     19950  263.0000      C23 C25 C27        S   \n",
      "112  female  28.0      3      2     19950  263.0000      C23 C25 C27        S   \n",
      "113  female  23.0      3      2     19950  263.0000      C23 C25 C27        S   \n",
      "115    male  64.0      1      4     19950  263.0000      C23 C25 C27        S   \n",
      "116  female  60.0      1      4     19950  263.0000      C23 C25 C27        S   \n",
      "183    male  35.0      0      0  PC 17755  512.3292             B101        C   \n",
      "250  female  18.0      2      2  PC 17608  262.3750  B57 B59 B63 B66        C   \n",
      "251  female  21.0      2      2  PC 17608  262.3750  B57 B59 B63 B66        C   \n",
      "253  female  48.0      1      3  PC 17608  262.3750  B57 B59 B63 B66        C   \n",
      "302  female  35.0      0      0  PC 17755  512.3292              NaN        C   \n",
      "\n",
      "    boat  body                                       home.dest  cluster_group  \n",
      "17     6   NaN                                    Montreal, PQ            1.0  \n",
      "49     3   NaN  Austria-Hungary / Germantown, Philadelphia, PA            1.0  \n",
      "50     3   NaN                    Germantown, Philadelphia, PA            1.0  \n",
      "97     6   NaN                                    Montreal, PQ            1.0  \n",
      "111   10   NaN                                    Winnipeg, MB            1.0  \n",
      "112   10   NaN                                    Winnipeg, MB            1.0  \n",
      "113   10   NaN                                    Winnipeg, MB            1.0  \n",
      "115  NaN   NaN                                    Winnipeg, MB            1.0  \n",
      "116   10   NaN                                    Winnipeg, MB            1.0  \n",
      "183    3   NaN                                             NaN            1.0  \n",
      "250    4   NaN                 Haverford, PA / Cooperstown, NY            1.0  \n",
      "251    4   NaN                 Haverford, PA / Cooperstown, NY            1.0  \n",
      "253    4   NaN                 Haverford, PA / Cooperstown, NY            1.0  \n",
      "302    3   NaN                                             NaN            1.0  \n"
     ]
    }
   ],
   "source": [
    "print(original_df[(original_df['cluster_group'] == 1)])"
   ]
  },
  {
   "cell_type": "code",
   "execution_count": 25,
   "metadata": {},
   "outputs": [
    {
     "name": "stdout",
     "output_type": "stream",
     "text": [
      "      pclass  survived                                               name  \\\n",
      "629        3         0                        Andersson, Mr. Anders Johan   \n",
      "632        3         0  Andersson, Mrs. Anders Johan (Alfrida Konstant...   \n",
      "644        3         0         Asplund, Mr. Carl Oscar Vilhelm Gustafsson   \n",
      "646        3         1  Asplund, Mrs. Carl Oscar (Selma Augusta Emilia...   \n",
      "831        3         0                     Goodwin, Mr. Charles Frederick   \n",
      "832        3         0            Goodwin, Mrs. Frederick (Augusta Tyler)   \n",
      "1106       3         0             Panula, Mrs. Juha (Maria Emilia Ojala)   \n",
      "1146       3         0               Rice, Mrs. William (Margaret Norton)   \n",
      "1179       3         0                              Sage, Mr. John George   \n",
      "1180       3         0                     Sage, Mrs. John (Annie Bullen)   \n",
      "\n",
      "         sex   age  sibsp  parch    ticket     fare cabin embarked boat  \\\n",
      "629     male  39.0      1      5    347082  31.2750   NaN        S  NaN   \n",
      "632   female  39.0      1      5    347082  31.2750   NaN        S  NaN   \n",
      "644     male  40.0      1      5    347077  31.3875   NaN        S  NaN   \n",
      "646   female  38.0      1      5    347077  31.3875   NaN        S   15   \n",
      "831     male  40.0      1      6   CA 2144  46.9000   NaN        S  NaN   \n",
      "832   female  43.0      1      6   CA 2144  46.9000   NaN        S  NaN   \n",
      "1106  female  41.0      0      5   3101295  39.6875   NaN        S  NaN   \n",
      "1146  female  39.0      0      5    382652  29.1250   NaN        Q  NaN   \n",
      "1179    male   NaN      1      9  CA. 2343  69.5500   NaN        S  NaN   \n",
      "1180  female   NaN      1      9  CA. 2343  69.5500   NaN        S  NaN   \n",
      "\n",
      "       body                             home.dest  cluster_group  \n",
      "629     NaN                   Sweden Winnipeg, MN            2.0  \n",
      "632     NaN                   Sweden Winnipeg, MN            2.0  \n",
      "644   142.0                 Sweden  Worcester, MA            2.0  \n",
      "646     NaN                 Sweden  Worcester, MA            2.0  \n",
      "831     NaN  Wiltshire, England Niagara Falls, NY            2.0  \n",
      "832     NaN  Wiltshire, England Niagara Falls, NY            2.0  \n",
      "1106    NaN                                   NaN            2.0  \n",
      "1146  327.0                                   NaN            2.0  \n",
      "1179    NaN                                   NaN            2.0  \n",
      "1180    NaN                                   NaN            2.0  \n"
     ]
    }
   ],
   "source": [
    "print(original_df[(original_df['cluster_group'] == 2)])"
   ]
  },
  {
   "cell_type": "code",
   "execution_count": 29,
   "metadata": {},
   "outputs": [
    {
     "name": "stdout",
     "output_type": "stream",
     "text": [
      "            pclass     survived          age        sibsp        parch  \\\n",
      "count  1285.000000  1285.000000  1024.000000  1285.000000  1285.000000   \n",
      "mean      2.303502     0.378210    29.696940     0.488716     0.326070   \n",
      "std       0.832383     0.485129    14.404043     1.040865     0.676932   \n",
      "min       1.000000     0.000000     0.166700     0.000000     0.000000   \n",
      "25%       2.000000     0.000000    21.000000     0.000000     0.000000   \n",
      "50%       3.000000     0.000000    28.000000     0.000000     0.000000   \n",
      "75%       3.000000     1.000000    38.000000     1.000000     0.000000   \n",
      "max       3.000000     1.000000    80.000000     8.000000     4.000000   \n",
      "\n",
      "              fare        body  cluster_group  \n",
      "count  1284.000000  119.000000         1285.0  \n",
      "mean     29.966484  159.571429            0.0  \n",
      "std      40.003574   97.302914            0.0  \n",
      "min       0.000000    1.000000            0.0  \n",
      "25%       7.895800   71.000000            0.0  \n",
      "50%      14.054150  155.000000            0.0  \n",
      "75%      30.000000  255.500000            0.0  \n",
      "max     263.000000  328.000000            0.0  \n"
     ]
    }
   ],
   "source": [
    "print(original_df[(original_df['cluster_group'] == 0)].describe())"
   ]
  }
 ],
 "metadata": {
  "kernelspec": {
   "display_name": "Python 3",
   "language": "python",
   "name": "python3"
  },
  "language_info": {
   "codemirror_mode": {
    "name": "ipython",
    "version": 3
   },
   "file_extension": ".py",
   "mimetype": "text/x-python",
   "name": "python",
   "nbconvert_exporter": "python",
   "pygments_lexer": "ipython3",
   "version": "3.9.5"
  },
  "orig_nbformat": 4,
  "vscode": {
   "interpreter": {
    "hash": "aee8b7b246df8f9039afb4144a1f6fd8d2ca17a180786b69acc140d282b71a49"
   }
  }
 },
 "nbformat": 4,
 "nbformat_minor": 2
}
